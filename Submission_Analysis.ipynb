{
  "nbformat": 4,
  "nbformat_minor": 0,
  "metadata": {
    "colab": {
      "name": "Submission_Analysis.ipynb",
      "provenance": [],
      "toc_visible": true,
      "authorship_tag": "ABX9TyMG9ADjEaTyO4ubsrsOQKMj",
      "include_colab_link": true
    },
    "kernelspec": {
      "name": "python3",
      "display_name": "Python 3"
    },
    "language_info": {
      "name": "python"
    }
  },
  "cells": [
    {
      "cell_type": "markdown",
      "metadata": {
        "id": "view-in-github",
        "colab_type": "text"
      },
      "source": [
        "<a href=\"https://colab.research.google.com/github/capajaro/Data_Mining_Project-/blob/main/Submission_Analysis.ipynb\" target=\"_parent\"><img src=\"https://colab.research.google.com/assets/colab-badge.svg\" alt=\"Open In Colab\"/></a>"
      ]
    },
    {
      "cell_type": "code",
      "metadata": {
        "id": "-ZHRvX0IFX1A"
      },
      "source": [
        "import numpy as np \n",
        "import pandas as pd\n",
        "import os\n",
        "\n",
        "# matplotlib and seaborn for plotting\n",
        "import matplotlib.pyplot as plt\n",
        "import seaborn as sns\n"
      ],
      "execution_count": 1,
      "outputs": []
    },
    {
      "cell_type": "code",
      "metadata": {
        "colab": {
          "base_uri": "https://localhost:8080/",
          "height": 204
        },
        "id": "FjVG584TF3ty",
        "outputId": "98e73ce9-f812-4a4a-f6de-19a205811278"
      },
      "source": [
        "Submissions = pd.read_csv('https://raw.githubusercontent.com/capajaro/Data_Mining_Project-/main/Submissions.csv')\n",
        "Submissions.head()"
      ],
      "execution_count": 6,
      "outputs": [
        {
          "output_type": "execute_result",
          "data": {
            "text/html": [
              "<div>\n",
              "<style scoped>\n",
              "    .dataframe tbody tr th:only-of-type {\n",
              "        vertical-align: middle;\n",
              "    }\n",
              "\n",
              "    .dataframe tbody tr th {\n",
              "        vertical-align: top;\n",
              "    }\n",
              "\n",
              "    .dataframe thead th {\n",
              "        text-align: right;\n",
              "    }\n",
              "</style>\n",
              "<table border=\"1\" class=\"dataframe\">\n",
              "  <thead>\n",
              "    <tr style=\"text-align: right;\">\n",
              "      <th></th>\n",
              "      <th>Family</th>\n",
              "      <th>Model</th>\n",
              "      <th>Score</th>\n",
              "    </tr>\n",
              "  </thead>\n",
              "  <tbody>\n",
              "    <tr>\n",
              "      <th>0</th>\n",
              "      <td>BERT - Python</td>\n",
              "      <td>Trial_Python_99.csv</td>\n",
              "      <td>0.83266</td>\n",
              "    </tr>\n",
              "    <tr>\n",
              "      <th>1</th>\n",
              "      <td>BERT - Python</td>\n",
              "      <td>Trial_Python_85.csv</td>\n",
              "      <td>0.82531</td>\n",
              "    </tr>\n",
              "    <tr>\n",
              "      <th>2</th>\n",
              "      <td>BERT - Python</td>\n",
              "      <td>Trial_Python_98.csv</td>\n",
              "      <td>0.82470</td>\n",
              "    </tr>\n",
              "    <tr>\n",
              "      <th>3</th>\n",
              "      <td>BERT - Python</td>\n",
              "      <td>Trial_Python_75.csv</td>\n",
              "      <td>0.82102</td>\n",
              "    </tr>\n",
              "    <tr>\n",
              "      <th>4</th>\n",
              "      <td>BERT - Python</td>\n",
              "      <td>Trial_Python_1.csv</td>\n",
              "      <td>0.79129</td>\n",
              "    </tr>\n",
              "  </tbody>\n",
              "</table>\n",
              "</div>"
            ],
            "text/plain": [
              "          Family                Model    Score\n",
              "0  BERT - Python  Trial_Python_99.csv  0.83266\n",
              "1  BERT - Python  Trial_Python_85.csv  0.82531\n",
              "2  BERT - Python  Trial_Python_98.csv  0.82470\n",
              "3  BERT - Python  Trial_Python_75.csv  0.82102\n",
              "4  BERT - Python   Trial_Python_1.csv  0.79129"
            ]
          },
          "metadata": {
            "tags": []
          },
          "execution_count": 6
        }
      ]
    },
    {
      "cell_type": "code",
      "metadata": {
        "colab": {
          "base_uri": "https://localhost:8080/"
        },
        "id": "BjlvVWtzGkPu",
        "outputId": "8825205f-7752-4a80-db12-950db0684160"
      },
      "source": [
        "sns.set_style('ticks')\n",
        "sns.stripplot(x='Family', y='Score', data = Submissions)\n",
        "plt.xlabel('$Model Type$', fontdict={\n",
        "                    'fontsize': 14, 'fontname': 'serif', 'fontweight': 'bold'})\n",
        "\n",
        "plt.ylabel('Score',\n",
        "                fontdict={'fontsize': 14, 'fontname': 'serif', 'fontweight': 'bold'})\n",
        "plt.grid(True, which='minor')\n",
        "plt.xticks(rotation = 45)\n",
        "plt.ylim(0.6, 0.9)\n",
        "FFIg = 'Boxplot_Models.png' \n",
        "\n",
        "plt.tight_layout()\n",
        "plt.savefig(FFIg)\n",
        "plt.close('all')"
      ],
      "execution_count": 19,
      "outputs": [
        {
          "output_type": "stream",
          "text": [
            "No handles with labels found to put in legend.\n"
          ],
          "name": "stderr"
        }
      ]
    }
  ]
}